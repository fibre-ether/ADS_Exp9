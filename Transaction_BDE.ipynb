{
  "nbformat": 4,
  "nbformat_minor": 0,
  "metadata": {
    "colab": {
      "provenance": []
    },
    "kernelspec": {
      "name": "python3",
      "display_name": "Python 3"
    },
    "language_info": {
      "name": "python"
    }
  },
  "cells": [
    {
      "cell_type": "code",
      "source": [
        "!pip install pyspark"
      ],
      "metadata": {
        "colab": {
          "base_uri": "https://localhost:8080/"
        },
        "id": "Jvs3h_O4vo8R",
        "outputId": "00475e20-e9ac-4378-c94e-deb45d8b06bd"
      },
      "execution_count": 3,
      "outputs": [
        {
          "output_type": "stream",
          "name": "stdout",
          "text": [
            "Looking in indexes: https://pypi.org/simple, https://us-python.pkg.dev/colab-wheels/public/simple/\n",
            "Collecting pyspark\n",
            "  Downloading pyspark-3.4.0.tar.gz (310.8 MB)\n",
            "\u001b[2K     \u001b[90m━━━━━━━━━━━━━━━━━━━━━━━━━━━━━━━━━━━━━━━\u001b[0m \u001b[32m310.8/310.8 MB\u001b[0m \u001b[31m3.9 MB/s\u001b[0m eta \u001b[36m0:00:00\u001b[0m\n",
            "\u001b[?25h  Preparing metadata (setup.py) ... \u001b[?25l\u001b[?25hdone\n",
            "Requirement already satisfied: py4j==0.10.9.7 in /usr/local/lib/python3.10/dist-packages (from pyspark) (0.10.9.7)\n",
            "Building wheels for collected packages: pyspark\n",
            "  Building wheel for pyspark (setup.py) ... \u001b[?25l\u001b[?25hdone\n",
            "  Created wheel for pyspark: filename=pyspark-3.4.0-py2.py3-none-any.whl size=311317145 sha256=0cd1e862cc398e9fda6cd91cc18bf915a2ea88ac9adf1d571fbc392dd615cb20\n",
            "  Stored in directory: /root/.cache/pip/wheels/7b/1b/4b/3363a1d04368e7ff0d408e57ff57966fcdf00583774e761327\n",
            "Successfully built pyspark\n",
            "Installing collected packages: pyspark\n",
            "Successfully installed pyspark-3.4.0\n"
          ]
        }
      ]
    },
    {
      "cell_type": "code",
      "execution_count": 120,
      "metadata": {
        "id": "yjjyG4rTvOBv"
      },
      "outputs": [],
      "source": [
        "import pyspark\n",
        "from pyspark import SparkContext\n",
        "from pyspark.streaming import StreamingContext\n",
        "from pyspark.sql import SQLContext\n",
        "from pyspark.sql.functions import desc"
      ]
    },
    {
      "cell_type": "code",
      "source": [
        "from pyspark.sql.functions import udf\n",
        "from pyspark.sql.types import StringType\n",
        "from pyspark.sql.types import IntegerType\n",
        "from pyspark.sql.functions import sum as Fsum\n",
        "from pyspark.sql.functions import min as Fmin\n",
        "from pyspark.sql.functions import max as Fmax\n",
        "from pyspark.sql.functions import avg, col, concat, count, desc, asc, explode, lit, split, stddev, udf, isnan, when, rank, from_unixtime"
      ],
      "metadata": {
        "id": "zamXBIbAMPP9"
      },
      "execution_count": 121,
      "outputs": []
    },
    {
      "cell_type": "code",
      "source": [
        "from pyspark.sql import SparkSession"
      ],
      "metadata": {
        "id": "0i1nnzW4wI-Q"
      },
      "execution_count": 122,
      "outputs": []
    },
    {
      "cell_type": "code",
      "source": [
        "spark = SparkSession.builder.appName(\n",
        "  \"pandas to spark\").getOrCreate()"
      ],
      "metadata": {
        "id": "LQfjjhr8vxxw"
      },
      "execution_count": 123,
      "outputs": []
    },
    {
      "cell_type": "code",
      "source": [
        "df_spark = spark.read.option('header', 'true').csv(\"/content/transactions-20230501_141813-40.csv\")"
      ],
      "metadata": {
        "id": "olqNXSL_wLL3"
      },
      "execution_count": 125,
      "outputs": []
    },
    {
      "cell_type": "code",
      "source": [
        "df_spark"
      ],
      "metadata": {
        "colab": {
          "base_uri": "https://localhost:8080/"
        },
        "id": "ezVYwIOJwPgm",
        "outputId": "ddfa3cd0-9e1a-42fe-9991-4cd61f8f7749"
      },
      "execution_count": 126,
      "outputs": [
        {
          "output_type": "execute_result",
          "data": {
            "text/plain": [
              "DataFrame[_c0: string, 1: string, Txn Hash: string, Method: string, Block: string, 2: string, Age: string, 3: string, From: string, 4: string, To: string, Value: string, Txn Fee: string, 5: string]"
            ]
          },
          "metadata": {},
          "execution_count": 126
        }
      ]
    },
    {
      "cell_type": "code",
      "source": [
        "df_spark.show()"
      ],
      "metadata": {
        "colab": {
          "base_uri": "https://localhost:8080/"
        },
        "id": "rECg0KtewXNW",
        "outputId": "af3f40ca-d66f-47d2-bd5c-d3304fa6a131"
      },
      "execution_count": 127,
      "outputs": [
        {
          "output_type": "stream",
          "name": "stdout",
          "text": [
            "+---+----+--------------------+-------------------+--------+----+---------+----+--------------------+----+--------------------+---------------+----------+----+\n",
            "|_c0|   1|            Txn Hash|             Method|   Block|   2|      Age|   3|                From|   4|                  To|          Value|   Txn Fee|   5|\n",
            "+---+----+--------------------+-------------------+--------+----+---------+----+--------------------+----+--------------------+---------------+----------+----+\n",
            "|  0|null|0x5a5404f46230fe1...|Append Sequencer...|17164854|null|1 min ago|null| Optimism: Sequencer|null|Optimism: Canonic...|          0 ETH|0.01305627|null|\n",
            "|  1|null|0xcd1d6b6ce3648a2...|            Unoswap|17164854|null|1 min ago|null| 0x0b1dD8...B82d9bC7|null|1inch v5: Aggrega...|          0 ETH|0.00549903|null|\n",
            "|  2|null|0xe2a1a884ebe841c...|            Approve|17164854|null|1 min ago|null| 0x9Ab8F9...8Ab74CCF|null| 0x0575A5...2FaA3a79|          0 ETH|0.00190457|null|\n",
            "|  3|null|0x223635c5cde550d...|            Execute|17164854|null|1 min ago|null| 0x456982...5C4bBBA6|null|Uniswap: Universa...|       0.08 ETH|0.00702675|null|\n",
            "|  4|null|0x0e43bd50cc1c128...|Append State Bat...|17164854|null|1 min ago|null|Optimism: State R...|null|Optimism: State C...|          0 ETH| 0.0537479|null|\n",
            "|  5|null|0x95fc3937509fa75...|            Execute|17164854|null|1 min ago|null| 0xFb82aC...C9b22265|null|Uniswap: Universa...|       0.06 ETH|0.00601246|null|\n",
            "|  6|null|0x7ba4760a1048757...|              Relay|17164854|null|1 min ago|null|Celer Network: Re...|null|Celer Network: cB...|          0 ETH|0.00770078|null|\n",
            "|  7|null|0x66be60b0d119bed...|           Transfer|17164854|null|1 min ago|null| 0x919114...4b55FC79|null| 0xB01157...08BbbB5c|          1 ETH|0.00085863|null|\n",
            "|  8|null|0x07110ef46a36cae...|           Transfer|17164854|null|1 min ago|null| 0x8C8D7C...564d7465|null| 0x8E628A...a282f354|0.057580057 ETH|0.00085863|null|\n",
            "|  9|null|0x903b3aaffdd275e...|           Transfer|17164854|null|1 min ago|null| 0x8C8D7C...564d7465|null| 0xa56D1A...C71f24F3|0.197961131 ETH|0.00085863|null|\n",
            "| 10|null|0x1a637793ff19405...|            Approve|17164854|null|1 min ago|null| 0xA35D81...6B8E3F3d|null|Crypto AI: CAI Token|          0 ETH|0.00192592|null|\n",
            "| 11|null|0x29814097f38cb9a...|   Any Swap In Auto|17164854|null|1 min ago|null| 0x2A038e...c288A869|null|Multichain: Route...|          0 ETH|0.00419977|null|\n",
            "| 12|null|0x3cb15515661f237...|   Any Swap In Auto|17164854|null|1 min ago|null| 0x2A038e...c288A869|null|Multichain: Route...|          0 ETH|0.00419977|null|\n",
            "| 13|null|0xb8692e1768a0a40...|           Transfer|17164854|null|1 min ago|null| 0x1651A6...49ea4E6b|null| 0x35626D...9B5F6BAe|0.001618629 ETH|0.00085928|null|\n",
            "| 14|null|0xe9c5ae87a397bc5...|            Approve|17164854|null|1 min ago|null| 0x32fFD2...DCbc8fC9|null| 0x993a1b...140F73F2|          0 ETH|0.00191922|null|\n",
            "| 15|null|0x0567f807abf95e7...|Safe Transfer Fr...|17164854|null|1 min ago|null|vault.nationalban...|null|Pepe Open Edition...|          0 ETH| 0.0021304|null|\n",
            "| 16|null|0xcc07f68aca60024...|           Transfer|17164854|null|1 min ago|null|tranthanhtong7698...|null|xuandai58489gmail...|      0.015 ETH|0.00085944|null|\n",
            "| 17|null|0x6364ec54e6614dd...|            Approve|17164854|null|1 min ago|null| 0xE983FA...3055c1dC|null|Stargate Finance:...|          0 ETH|0.00189053|null|\n",
            "| 18|null|0x9ec5cc9c4d3f8d5...|           Register|17164854|null|1 min ago|null|       kingofall.eth|null|DeBank: L2 Regist...|          0 ETH|0.00564753|null|\n",
            "| 19|null|0xac7af5ce67220ec...|           Transfer|17164854|null|1 min ago|null| 0x76eD44...a63F3037|null|    Centre: USD Coin|          0 ETH|0.00268527|null|\n",
            "+---+----+--------------------+-------------------+--------+----+---------+----+--------------------+----+--------------------+---------------+----------+----+\n",
            "only showing top 20 rows\n",
            "\n"
          ]
        }
      ]
    },
    {
      "cell_type": "code",
      "source": [
        "df_spark.columns"
      ],
      "metadata": {
        "colab": {
          "base_uri": "https://localhost:8080/"
        },
        "id": "hsAIsT9nwhC-",
        "outputId": "825cb42f-0a6c-4da0-d914-df7aaf7ab475"
      },
      "execution_count": 128,
      "outputs": [
        {
          "output_type": "execute_result",
          "data": {
            "text/plain": [
              "['_c0',\n",
              " '1',\n",
              " 'Txn Hash',\n",
              " 'Method',\n",
              " 'Block',\n",
              " '2',\n",
              " 'Age',\n",
              " '3',\n",
              " 'From',\n",
              " '4',\n",
              " 'To',\n",
              " 'Value',\n",
              " 'Txn Fee',\n",
              " '5']"
            ]
          },
          "metadata": {},
          "execution_count": 128
        }
      ]
    },
    {
      "cell_type": "code",
      "source": [
        "columns_to_drop = ['1', '2','3','4','5']\n",
        "df = df_spark.drop(*columns_to_drop)"
      ],
      "metadata": {
        "id": "BOS79KLOxKRW"
      },
      "execution_count": 129,
      "outputs": []
    },
    {
      "cell_type": "code",
      "source": [
        "df.show()"
      ],
      "metadata": {
        "colab": {
          "base_uri": "https://localhost:8080/"
        },
        "id": "4E8JqurCx99W",
        "outputId": "566ee707-cd00-4fce-9acc-75cf5eb85764"
      },
      "execution_count": 130,
      "outputs": [
        {
          "output_type": "stream",
          "name": "stdout",
          "text": [
            "+---+--------------------+-------------------+--------+---------+--------------------+--------------------+---------------+----------+\n",
            "|_c0|            Txn Hash|             Method|   Block|      Age|                From|                  To|          Value|   Txn Fee|\n",
            "+---+--------------------+-------------------+--------+---------+--------------------+--------------------+---------------+----------+\n",
            "|  0|0x5a5404f46230fe1...|Append Sequencer...|17164854|1 min ago| Optimism: Sequencer|Optimism: Canonic...|          0 ETH|0.01305627|\n",
            "|  1|0xcd1d6b6ce3648a2...|            Unoswap|17164854|1 min ago| 0x0b1dD8...B82d9bC7|1inch v5: Aggrega...|          0 ETH|0.00549903|\n",
            "|  2|0xe2a1a884ebe841c...|            Approve|17164854|1 min ago| 0x9Ab8F9...8Ab74CCF| 0x0575A5...2FaA3a79|          0 ETH|0.00190457|\n",
            "|  3|0x223635c5cde550d...|            Execute|17164854|1 min ago| 0x456982...5C4bBBA6|Uniswap: Universa...|       0.08 ETH|0.00702675|\n",
            "|  4|0x0e43bd50cc1c128...|Append State Bat...|17164854|1 min ago|Optimism: State R...|Optimism: State C...|          0 ETH| 0.0537479|\n",
            "|  5|0x95fc3937509fa75...|            Execute|17164854|1 min ago| 0xFb82aC...C9b22265|Uniswap: Universa...|       0.06 ETH|0.00601246|\n",
            "|  6|0x7ba4760a1048757...|              Relay|17164854|1 min ago|Celer Network: Re...|Celer Network: cB...|          0 ETH|0.00770078|\n",
            "|  7|0x66be60b0d119bed...|           Transfer|17164854|1 min ago| 0x919114...4b55FC79| 0xB01157...08BbbB5c|          1 ETH|0.00085863|\n",
            "|  8|0x07110ef46a36cae...|           Transfer|17164854|1 min ago| 0x8C8D7C...564d7465| 0x8E628A...a282f354|0.057580057 ETH|0.00085863|\n",
            "|  9|0x903b3aaffdd275e...|           Transfer|17164854|1 min ago| 0x8C8D7C...564d7465| 0xa56D1A...C71f24F3|0.197961131 ETH|0.00085863|\n",
            "| 10|0x1a637793ff19405...|            Approve|17164854|1 min ago| 0xA35D81...6B8E3F3d|Crypto AI: CAI Token|          0 ETH|0.00192592|\n",
            "| 11|0x29814097f38cb9a...|   Any Swap In Auto|17164854|1 min ago| 0x2A038e...c288A869|Multichain: Route...|          0 ETH|0.00419977|\n",
            "| 12|0x3cb15515661f237...|   Any Swap In Auto|17164854|1 min ago| 0x2A038e...c288A869|Multichain: Route...|          0 ETH|0.00419977|\n",
            "| 13|0xb8692e1768a0a40...|           Transfer|17164854|1 min ago| 0x1651A6...49ea4E6b| 0x35626D...9B5F6BAe|0.001618629 ETH|0.00085928|\n",
            "| 14|0xe9c5ae87a397bc5...|            Approve|17164854|1 min ago| 0x32fFD2...DCbc8fC9| 0x993a1b...140F73F2|          0 ETH|0.00191922|\n",
            "| 15|0x0567f807abf95e7...|Safe Transfer Fr...|17164854|1 min ago|vault.nationalban...|Pepe Open Edition...|          0 ETH| 0.0021304|\n",
            "| 16|0xcc07f68aca60024...|           Transfer|17164854|1 min ago|tranthanhtong7698...|xuandai58489gmail...|      0.015 ETH|0.00085944|\n",
            "| 17|0x6364ec54e6614dd...|            Approve|17164854|1 min ago| 0xE983FA...3055c1dC|Stargate Finance:...|          0 ETH|0.00189053|\n",
            "| 18|0x9ec5cc9c4d3f8d5...|           Register|17164854|1 min ago|       kingofall.eth|DeBank: L2 Regist...|          0 ETH|0.00564753|\n",
            "| 19|0xac7af5ce67220ec...|           Transfer|17164854|1 min ago| 0x76eD44...a63F3037|    Centre: USD Coin|          0 ETH|0.00268527|\n",
            "+---+--------------------+-------------------+--------+---------+--------------------+--------------------+---------------+----------+\n",
            "only showing top 20 rows\n",
            "\n"
          ]
        }
      ]
    },
    {
      "cell_type": "code",
      "source": [
        "df.count()"
      ],
      "metadata": {
        "colab": {
          "base_uri": "https://localhost:8080/"
        },
        "id": "wpOHMXhxx_Q9",
        "outputId": "04a388d2-ac54-4acb-aa48-ac0b661bde61"
      },
      "execution_count": 131,
      "outputs": [
        {
          "output_type": "execute_result",
          "data": {
            "text/plain": [
              "1000"
            ]
          },
          "metadata": {},
          "execution_count": 131
        }
      ]
    },
    {
      "cell_type": "code",
      "source": [
        "df.describe().show()"
      ],
      "metadata": {
        "colab": {
          "base_uri": "https://localhost:8080/"
        },
        "id": "1O3p9_YayPVM",
        "outputId": "2f2c1d6b-d23d-4e9c-cc9d-a0c232a10b0b"
      },
      "execution_count": 132,
      "outputs": [
        {
          "output_type": "stream",
          "name": "stdout",
          "text": [
            "+-------+-----------------+--------------------+-------------------+-----------------+----------+----------+--------------------+--------+--------------------+\n",
            "|summary|              _c0|            Txn Hash|             Method|            Block|       Age|      From|                  To|   Value|             Txn Fee|\n",
            "+-------+-----------------+--------------------+-------------------+-----------------+----------+----------+--------------------+--------+--------------------+\n",
            "|  count|             1000|                1000|               1000|             1000|      1000|      1000|                1000|    1000|                1000|\n",
            "|   mean|            499.5|                null|               null|   1.7164865397E7|      null|      null|                null|    null|0.005411258339999998|\n",
            "| stddev|288.8194360957494|                null|               null|6.725371493452646|      null|      null|                null|    null|0.010797917322240957|\n",
            "|    min|                0|0x0001bcc8cee9cf4...|         0x00000000|         17164854| 1 min ago|*⧫777⧫.eth| 0x000000...F43A51d3|   0 ETH|          0.00082134|\n",
            "|    max|              999|0xffa5e6e774c7d21...|Withdrawal Incom...|         17164876|2 mins ago|zzj518.eth|zkSync Era: Valid...|9.98 ETH|          0.14597547|\n",
            "+-------+-----------------+--------------------+-------------------+-----------------+----------+----------+--------------------+--------+--------------------+\n",
            "\n"
          ]
        }
      ]
    },
    {
      "cell_type": "code",
      "source": [
        "def count_missing(df, col):\n",
        "    \"\"\"\n",
        "    A helper function which count how many missing values in a colum of the dataset.\n",
        "    \n",
        "    This function is useful because the data can be either three cases below:\n",
        "    \n",
        "    1. NaN\n",
        "    2. Null\n",
        "    3. \"\" (empty string)\n",
        "    \"\"\"\n",
        "    return df.filter((isnan(df[col])) | (df[col].isNull()) | (df[col] == \"\") | (df[col] == \"null\")).count()"
      ],
      "metadata": {
        "id": "e1daTa5WMCtF"
      },
      "execution_count": 133,
      "outputs": []
    },
    {
      "cell_type": "code",
      "source": [
        "print(\"[missing values]\\n\")\n",
        "for col in df.columns:\n",
        "    missing_count = count_missing(df, col)\n",
        "    if missing_count > 0:\n",
        "        print(\"{}: {}\".format(col, missing_count))"
      ],
      "metadata": {
        "colab": {
          "base_uri": "https://localhost:8080/"
        },
        "id": "YBvv9fEFMD6l",
        "outputId": "cf54d683-aea0-40d7-ab25-4a7429b45213"
      },
      "execution_count": 134,
      "outputs": [
        {
          "output_type": "stream",
          "name": "stdout",
          "text": [
            "[missing values]\n",
            "\n"
          ]
        }
      ]
    },
    {
      "cell_type": "code",
      "source": [
        "df.schema"
      ],
      "metadata": {
        "colab": {
          "base_uri": "https://localhost:8080/"
        },
        "id": "r06jrYzDNZ-M",
        "outputId": "e7de652c-44f9-49e4-cab6-b212da171d54"
      },
      "execution_count": 135,
      "outputs": [
        {
          "output_type": "execute_result",
          "data": {
            "text/plain": [
              "StructType([StructField('_c0', StringType(), True), StructField('Txn Hash', StringType(), True), StructField('Method', StringType(), True), StructField('Block', StringType(), True), StructField('Age', StringType(), True), StructField('From', StringType(), True), StructField('To', StringType(), True), StructField('Value', StringType(), True), StructField('Txn Fee', StringType(), True)])"
            ]
          },
          "metadata": {},
          "execution_count": 135
        }
      ]
    },
    {
      "cell_type": "code",
      "source": [
        "from pyspark.sql.types import IntegerType, LongType, DoubleType\n",
        "df = df.withColumn(\"Txn Fee\", df[\"Txn Fee\"].cast(DoubleType()))"
      ],
      "metadata": {
        "id": "bbhy_RbMO6oc"
      },
      "execution_count": 136,
      "outputs": []
    },
    {
      "cell_type": "code",
      "source": [
        "df.schema"
      ],
      "metadata": {
        "colab": {
          "base_uri": "https://localhost:8080/"
        },
        "id": "W5w3Bu8dPUma",
        "outputId": "a27e3bcd-f28f-41da-a3fb-191235131d21"
      },
      "execution_count": 137,
      "outputs": [
        {
          "output_type": "execute_result",
          "data": {
            "text/plain": [
              "StructType([StructField('_c0', StringType(), True), StructField('Txn Hash', StringType(), True), StructField('Method', StringType(), True), StructField('Block', StringType(), True), StructField('Age', StringType(), True), StructField('From', StringType(), True), StructField('To', StringType(), True), StructField('Value', StringType(), True), StructField('Txn Fee', DoubleType(), True)])"
            ]
          },
          "metadata": {},
          "execution_count": 137
        }
      ]
    },
    {
      "cell_type": "code",
      "source": [
        "df.show()"
      ],
      "metadata": {
        "colab": {
          "base_uri": "https://localhost:8080/"
        },
        "id": "eetn-mZUPvyT",
        "outputId": "787a5e33-c577-4294-f77a-475f9ced9ce9"
      },
      "execution_count": 138,
      "outputs": [
        {
          "output_type": "stream",
          "name": "stdout",
          "text": [
            "+---+--------------------+-------------------+--------+---------+--------------------+--------------------+---------------+----------+\n",
            "|_c0|            Txn Hash|             Method|   Block|      Age|                From|                  To|          Value|   Txn Fee|\n",
            "+---+--------------------+-------------------+--------+---------+--------------------+--------------------+---------------+----------+\n",
            "|  0|0x5a5404f46230fe1...|Append Sequencer...|17164854|1 min ago| Optimism: Sequencer|Optimism: Canonic...|          0 ETH|0.01305627|\n",
            "|  1|0xcd1d6b6ce3648a2...|            Unoswap|17164854|1 min ago| 0x0b1dD8...B82d9bC7|1inch v5: Aggrega...|          0 ETH|0.00549903|\n",
            "|  2|0xe2a1a884ebe841c...|            Approve|17164854|1 min ago| 0x9Ab8F9...8Ab74CCF| 0x0575A5...2FaA3a79|          0 ETH|0.00190457|\n",
            "|  3|0x223635c5cde550d...|            Execute|17164854|1 min ago| 0x456982...5C4bBBA6|Uniswap: Universa...|       0.08 ETH|0.00702675|\n",
            "|  4|0x0e43bd50cc1c128...|Append State Bat...|17164854|1 min ago|Optimism: State R...|Optimism: State C...|          0 ETH| 0.0537479|\n",
            "|  5|0x95fc3937509fa75...|            Execute|17164854|1 min ago| 0xFb82aC...C9b22265|Uniswap: Universa...|       0.06 ETH|0.00601246|\n",
            "|  6|0x7ba4760a1048757...|              Relay|17164854|1 min ago|Celer Network: Re...|Celer Network: cB...|          0 ETH|0.00770078|\n",
            "|  7|0x66be60b0d119bed...|           Transfer|17164854|1 min ago| 0x919114...4b55FC79| 0xB01157...08BbbB5c|          1 ETH| 8.5863E-4|\n",
            "|  8|0x07110ef46a36cae...|           Transfer|17164854|1 min ago| 0x8C8D7C...564d7465| 0x8E628A...a282f354|0.057580057 ETH| 8.5863E-4|\n",
            "|  9|0x903b3aaffdd275e...|           Transfer|17164854|1 min ago| 0x8C8D7C...564d7465| 0xa56D1A...C71f24F3|0.197961131 ETH| 8.5863E-4|\n",
            "| 10|0x1a637793ff19405...|            Approve|17164854|1 min ago| 0xA35D81...6B8E3F3d|Crypto AI: CAI Token|          0 ETH|0.00192592|\n",
            "| 11|0x29814097f38cb9a...|   Any Swap In Auto|17164854|1 min ago| 0x2A038e...c288A869|Multichain: Route...|          0 ETH|0.00419977|\n",
            "| 12|0x3cb15515661f237...|   Any Swap In Auto|17164854|1 min ago| 0x2A038e...c288A869|Multichain: Route...|          0 ETH|0.00419977|\n",
            "| 13|0xb8692e1768a0a40...|           Transfer|17164854|1 min ago| 0x1651A6...49ea4E6b| 0x35626D...9B5F6BAe|0.001618629 ETH| 8.5928E-4|\n",
            "| 14|0xe9c5ae87a397bc5...|            Approve|17164854|1 min ago| 0x32fFD2...DCbc8fC9| 0x993a1b...140F73F2|          0 ETH|0.00191922|\n",
            "| 15|0x0567f807abf95e7...|Safe Transfer Fr...|17164854|1 min ago|vault.nationalban...|Pepe Open Edition...|          0 ETH| 0.0021304|\n",
            "| 16|0xcc07f68aca60024...|           Transfer|17164854|1 min ago|tranthanhtong7698...|xuandai58489gmail...|      0.015 ETH| 8.5944E-4|\n",
            "| 17|0x6364ec54e6614dd...|            Approve|17164854|1 min ago| 0xE983FA...3055c1dC|Stargate Finance:...|          0 ETH|0.00189053|\n",
            "| 18|0x9ec5cc9c4d3f8d5...|           Register|17164854|1 min ago|       kingofall.eth|DeBank: L2 Regist...|          0 ETH|0.00564753|\n",
            "| 19|0xac7af5ce67220ec...|           Transfer|17164854|1 min ago| 0x76eD44...a63F3037|    Centre: USD Coin|          0 ETH|0.00268527|\n",
            "+---+--------------------+-------------------+--------+---------+--------------------+--------------------+---------------+----------+\n",
            "only showing top 20 rows\n",
            "\n"
          ]
        }
      ]
    },
    {
      "cell_type": "code",
      "source": [
        "split_col = pyspark.sql.functions.split(df['Value'], ' ')\n",
        "df = df.withColumn('Val', split_col.getItem(0))\n",
        "df = df.withColumn('Type', split_col.getItem(1))"
      ],
      "metadata": {
        "id": "S3P46yZwQbJ7"
      },
      "execution_count": 139,
      "outputs": []
    },
    {
      "cell_type": "code",
      "source": [
        "df.show()"
      ],
      "metadata": {
        "colab": {
          "base_uri": "https://localhost:8080/"
        },
        "id": "iH4IFl6QQopK",
        "outputId": "23f7fa39-6572-4cdd-e835-f6651216c556"
      },
      "execution_count": 140,
      "outputs": [
        {
          "output_type": "stream",
          "name": "stdout",
          "text": [
            "+---+--------------------+-------------------+--------+---------+--------------------+--------------------+---------------+----------+-----------+----+\n",
            "|_c0|            Txn Hash|             Method|   Block|      Age|                From|                  To|          Value|   Txn Fee|        Val|Type|\n",
            "+---+--------------------+-------------------+--------+---------+--------------------+--------------------+---------------+----------+-----------+----+\n",
            "|  0|0x5a5404f46230fe1...|Append Sequencer...|17164854|1 min ago| Optimism: Sequencer|Optimism: Canonic...|          0 ETH|0.01305627|          0| ETH|\n",
            "|  1|0xcd1d6b6ce3648a2...|            Unoswap|17164854|1 min ago| 0x0b1dD8...B82d9bC7|1inch v5: Aggrega...|          0 ETH|0.00549903|          0| ETH|\n",
            "|  2|0xe2a1a884ebe841c...|            Approve|17164854|1 min ago| 0x9Ab8F9...8Ab74CCF| 0x0575A5...2FaA3a79|          0 ETH|0.00190457|          0| ETH|\n",
            "|  3|0x223635c5cde550d...|            Execute|17164854|1 min ago| 0x456982...5C4bBBA6|Uniswap: Universa...|       0.08 ETH|0.00702675|       0.08| ETH|\n",
            "|  4|0x0e43bd50cc1c128...|Append State Bat...|17164854|1 min ago|Optimism: State R...|Optimism: State C...|          0 ETH| 0.0537479|          0| ETH|\n",
            "|  5|0x95fc3937509fa75...|            Execute|17164854|1 min ago| 0xFb82aC...C9b22265|Uniswap: Universa...|       0.06 ETH|0.00601246|       0.06| ETH|\n",
            "|  6|0x7ba4760a1048757...|              Relay|17164854|1 min ago|Celer Network: Re...|Celer Network: cB...|          0 ETH|0.00770078|          0| ETH|\n",
            "|  7|0x66be60b0d119bed...|           Transfer|17164854|1 min ago| 0x919114...4b55FC79| 0xB01157...08BbbB5c|          1 ETH| 8.5863E-4|          1| ETH|\n",
            "|  8|0x07110ef46a36cae...|           Transfer|17164854|1 min ago| 0x8C8D7C...564d7465| 0x8E628A...a282f354|0.057580057 ETH| 8.5863E-4|0.057580057| ETH|\n",
            "|  9|0x903b3aaffdd275e...|           Transfer|17164854|1 min ago| 0x8C8D7C...564d7465| 0xa56D1A...C71f24F3|0.197961131 ETH| 8.5863E-4|0.197961131| ETH|\n",
            "| 10|0x1a637793ff19405...|            Approve|17164854|1 min ago| 0xA35D81...6B8E3F3d|Crypto AI: CAI Token|          0 ETH|0.00192592|          0| ETH|\n",
            "| 11|0x29814097f38cb9a...|   Any Swap In Auto|17164854|1 min ago| 0x2A038e...c288A869|Multichain: Route...|          0 ETH|0.00419977|          0| ETH|\n",
            "| 12|0x3cb15515661f237...|   Any Swap In Auto|17164854|1 min ago| 0x2A038e...c288A869|Multichain: Route...|          0 ETH|0.00419977|          0| ETH|\n",
            "| 13|0xb8692e1768a0a40...|           Transfer|17164854|1 min ago| 0x1651A6...49ea4E6b| 0x35626D...9B5F6BAe|0.001618629 ETH| 8.5928E-4|0.001618629| ETH|\n",
            "| 14|0xe9c5ae87a397bc5...|            Approve|17164854|1 min ago| 0x32fFD2...DCbc8fC9| 0x993a1b...140F73F2|          0 ETH|0.00191922|          0| ETH|\n",
            "| 15|0x0567f807abf95e7...|Safe Transfer Fr...|17164854|1 min ago|vault.nationalban...|Pepe Open Edition...|          0 ETH| 0.0021304|          0| ETH|\n",
            "| 16|0xcc07f68aca60024...|           Transfer|17164854|1 min ago|tranthanhtong7698...|xuandai58489gmail...|      0.015 ETH| 8.5944E-4|      0.015| ETH|\n",
            "| 17|0x6364ec54e6614dd...|            Approve|17164854|1 min ago| 0xE983FA...3055c1dC|Stargate Finance:...|          0 ETH|0.00189053|          0| ETH|\n",
            "| 18|0x9ec5cc9c4d3f8d5...|           Register|17164854|1 min ago|       kingofall.eth|DeBank: L2 Regist...|          0 ETH|0.00564753|          0| ETH|\n",
            "| 19|0xac7af5ce67220ec...|           Transfer|17164854|1 min ago| 0x76eD44...a63F3037|    Centre: USD Coin|          0 ETH|0.00268527|          0| ETH|\n",
            "+---+--------------------+-------------------+--------+---------+--------------------+--------------------+---------------+----------+-----------+----+\n",
            "only showing top 20 rows\n",
            "\n"
          ]
        }
      ]
    },
    {
      "cell_type": "code",
      "source": [
        "df = df.withColumn(\"Val\", df[\"Val\"].cast(DoubleType()))"
      ],
      "metadata": {
        "id": "KAZhazYnQ4Eh"
      },
      "execution_count": 141,
      "outputs": []
    },
    {
      "cell_type": "code",
      "source": [
        "num_cols = []\n",
        "cat_cols = []\n",
        "\n",
        "for s in df.schema:\n",
        "    data_type = str(s.dataType)\n",
        "    if data_type == \"StringType()\":\n",
        "        cat_cols.append(s.name)\n",
        "    \n",
        "    if data_type == \"LongType()\" or data_type == \"DoubleType()\":\n",
        "        num_cols.append(s.name)"
      ],
      "metadata": {
        "id": "KG5gsBrONQV8"
      },
      "execution_count": 142,
      "outputs": []
    },
    {
      "cell_type": "code",
      "source": [
        "num_cols"
      ],
      "metadata": {
        "colab": {
          "base_uri": "https://localhost:8080/"
        },
        "id": "PkYEtcT6RAdS",
        "outputId": "02a44ae0-a6ec-4485-8aa7-6f71c7106ed8"
      },
      "execution_count": 143,
      "outputs": [
        {
          "output_type": "execute_result",
          "data": {
            "text/plain": [
              "['Txn Fee', 'Val']"
            ]
          },
          "metadata": {},
          "execution_count": 143
        }
      ]
    },
    {
      "cell_type": "code",
      "source": [
        "cat_cols"
      ],
      "metadata": {
        "colab": {
          "base_uri": "https://localhost:8080/"
        },
        "id": "ONK0T7mPRB-Z",
        "outputId": "709f221a-9fae-4487-c580-2a685ef1d0a7"
      },
      "execution_count": 144,
      "outputs": [
        {
          "output_type": "execute_result",
          "data": {
            "text/plain": [
              "['_c0', 'Txn Hash', 'Method', 'Block', 'Age', 'From', 'To', 'Value', 'Type']"
            ]
          },
          "metadata": {},
          "execution_count": 144
        }
      ]
    },
    {
      "cell_type": "code",
      "source": [
        "cols = ['_c0','Value']\n",
        "df1 = df.drop(*cols)"
      ],
      "metadata": {
        "id": "S1o5XeYgRN_a"
      },
      "execution_count": 145,
      "outputs": []
    },
    {
      "cell_type": "code",
      "source": [
        "df1.show()"
      ],
      "metadata": {
        "colab": {
          "base_uri": "https://localhost:8080/"
        },
        "id": "pkD7UzIGRvfy",
        "outputId": "c24e64b3-8d5e-4aa7-9964-e7fdb4b8336b"
      },
      "execution_count": 146,
      "outputs": [
        {
          "output_type": "stream",
          "name": "stdout",
          "text": [
            "+--------------------+-------------------+--------+---------+--------------------+--------------------+----------+-----------+----+\n",
            "|            Txn Hash|             Method|   Block|      Age|                From|                  To|   Txn Fee|        Val|Type|\n",
            "+--------------------+-------------------+--------+---------+--------------------+--------------------+----------+-----------+----+\n",
            "|0x5a5404f46230fe1...|Append Sequencer...|17164854|1 min ago| Optimism: Sequencer|Optimism: Canonic...|0.01305627|        0.0| ETH|\n",
            "|0xcd1d6b6ce3648a2...|            Unoswap|17164854|1 min ago| 0x0b1dD8...B82d9bC7|1inch v5: Aggrega...|0.00549903|        0.0| ETH|\n",
            "|0xe2a1a884ebe841c...|            Approve|17164854|1 min ago| 0x9Ab8F9...8Ab74CCF| 0x0575A5...2FaA3a79|0.00190457|        0.0| ETH|\n",
            "|0x223635c5cde550d...|            Execute|17164854|1 min ago| 0x456982...5C4bBBA6|Uniswap: Universa...|0.00702675|       0.08| ETH|\n",
            "|0x0e43bd50cc1c128...|Append State Bat...|17164854|1 min ago|Optimism: State R...|Optimism: State C...| 0.0537479|        0.0| ETH|\n",
            "|0x95fc3937509fa75...|            Execute|17164854|1 min ago| 0xFb82aC...C9b22265|Uniswap: Universa...|0.00601246|       0.06| ETH|\n",
            "|0x7ba4760a1048757...|              Relay|17164854|1 min ago|Celer Network: Re...|Celer Network: cB...|0.00770078|        0.0| ETH|\n",
            "|0x66be60b0d119bed...|           Transfer|17164854|1 min ago| 0x919114...4b55FC79| 0xB01157...08BbbB5c| 8.5863E-4|        1.0| ETH|\n",
            "|0x07110ef46a36cae...|           Transfer|17164854|1 min ago| 0x8C8D7C...564d7465| 0x8E628A...a282f354| 8.5863E-4|0.057580057| ETH|\n",
            "|0x903b3aaffdd275e...|           Transfer|17164854|1 min ago| 0x8C8D7C...564d7465| 0xa56D1A...C71f24F3| 8.5863E-4|0.197961131| ETH|\n",
            "|0x1a637793ff19405...|            Approve|17164854|1 min ago| 0xA35D81...6B8E3F3d|Crypto AI: CAI Token|0.00192592|        0.0| ETH|\n",
            "|0x29814097f38cb9a...|   Any Swap In Auto|17164854|1 min ago| 0x2A038e...c288A869|Multichain: Route...|0.00419977|        0.0| ETH|\n",
            "|0x3cb15515661f237...|   Any Swap In Auto|17164854|1 min ago| 0x2A038e...c288A869|Multichain: Route...|0.00419977|        0.0| ETH|\n",
            "|0xb8692e1768a0a40...|           Transfer|17164854|1 min ago| 0x1651A6...49ea4E6b| 0x35626D...9B5F6BAe| 8.5928E-4|0.001618629| ETH|\n",
            "|0xe9c5ae87a397bc5...|            Approve|17164854|1 min ago| 0x32fFD2...DCbc8fC9| 0x993a1b...140F73F2|0.00191922|        0.0| ETH|\n",
            "|0x0567f807abf95e7...|Safe Transfer Fr...|17164854|1 min ago|vault.nationalban...|Pepe Open Edition...| 0.0021304|        0.0| ETH|\n",
            "|0xcc07f68aca60024...|           Transfer|17164854|1 min ago|tranthanhtong7698...|xuandai58489gmail...| 8.5944E-4|      0.015| ETH|\n",
            "|0x6364ec54e6614dd...|            Approve|17164854|1 min ago| 0xE983FA...3055c1dC|Stargate Finance:...|0.00189053|        0.0| ETH|\n",
            "|0x9ec5cc9c4d3f8d5...|           Register|17164854|1 min ago|       kingofall.eth|DeBank: L2 Regist...|0.00564753|        0.0| ETH|\n",
            "|0xac7af5ce67220ec...|           Transfer|17164854|1 min ago| 0x76eD44...a63F3037|    Centre: USD Coin|0.00268527|        0.0| ETH|\n",
            "+--------------------+-------------------+--------+---------+--------------------+--------------------+----------+-----------+----+\n",
            "only showing top 20 rows\n",
            "\n"
          ]
        }
      ]
    },
    {
      "cell_type": "markdown",
      "source": [
        "### Top 5 Methods of Transactions"
      ],
      "metadata": {
        "id": "6-hHhPYzmyXf"
      }
    },
    {
      "cell_type": "code",
      "source": [
        "l = df1.groupBy('Method').count()\n",
        "l1 = l.sort('count', ascending=False).limit(8)"
      ],
      "metadata": {
        "id": "C3QnxRXEiwkm"
      },
      "execution_count": 147,
      "outputs": []
    },
    {
      "cell_type": "code",
      "source": [
        "l1 = l1.toPandas()"
      ],
      "metadata": {
        "id": "bXWlH3i6mAjG"
      },
      "execution_count": 148,
      "outputs": []
    },
    {
      "cell_type": "code",
      "source": [
        "plt.figure(figsize=(12,8))\n",
        "plt.bar(l1['Method'],l1['count'])\n",
        "plt.xlabel('Method')\n",
        "plt.ylabel('Count')\n",
        "plt.title('Top 5 Methods of Transactions')\n",
        "plt.show()"
      ],
      "metadata": {
        "colab": {
          "base_uri": "https://localhost:8080/",
          "height": 646
        },
        "id": "1PKkDX-8mD-V",
        "outputId": "e944bedd-e973-4225-aa6f-7cf28bbbe7e1"
      },
      "execution_count": 149,
      "outputs": [
        {
          "output_type": "display_data",
          "data": {
            "text/plain": [
              "<Figure size 1200x800 with 1 Axes>"
            ],
            "image/png": "[encoded data removed]"
          },
          "metadata": {}
        }
      ]
    },
    {
      "cell_type": "markdown",
      "source": [
        "### Methods with Highest Etherium Transaction Value"
      ],
      "metadata": {
        "id": "CS16CjWlfWgd"
      }
    },
    {
      "cell_type": "code",
      "source": [
        "df_cat_val = df1.groupby(\"Method\").agg({'Val': \"sum\"})"
      ],
      "metadata": {
        "id": "sZsbP-eWcZs0"
      },
      "execution_count": 150,
      "outputs": []
    },
    {
      "cell_type": "code",
      "source": [
        "df_cat_val.count()"
      ],
      "metadata": {
        "colab": {
          "base_uri": "https://localhost:8080/"
        },
        "id": "gxJH6tEFctL9",
        "outputId": "5fa4e4be-673d-4b8d-88bf-330ab60e2519"
      },
      "execution_count": 151,
      "outputs": [
        {
          "output_type": "execute_result",
          "data": {
            "text/plain": [
              "155"
            ]
          },
          "metadata": {},
          "execution_count": 151
        }
      ]
    },
    {
      "cell_type": "code",
      "source": [
        "df_cat_val.show()"
      ],
      "metadata": {
        "colab": {
          "base_uri": "https://localhost:8080/"
        },
        "id": "_1UAfYvvdZPk",
        "outputId": "5687839c-f325-4d22-c261-1356cf9083ea"
      },
      "execution_count": 152,
      "outputs": [
        {
          "output_type": "stream",
          "name": "stdout",
          "text": [
            "+-------------------+--------------------+\n",
            "|             Method|            sum(Val)|\n",
            "+-------------------+--------------------+\n",
            "|             Cancel|                 0.0|\n",
            "|       Admin Cancel|                 0.0|\n",
            "|   Mooo Z1089603480|                 0.0|\n",
            "|         0x3c2f385e|                 0.0|\n",
            "|      Commit Blocks|                 0.0|\n",
            "|    Mint Allow List|                 0.0|\n",
            "|      Claim Rewards|                 0.0|\n",
            "|     Set Sell Taxes|                 0.0|\n",
            "|           Purchase|0.004885000000000...|\n",
            "|         0x3111c54f|         0.252956998|\n",
            "|      Submit Prices|                 0.0|\n",
            "|         0x60a06040|                 0.0|\n",
            "|Emergency Withdr...|                 0.0|\n",
            "|Safe Transfer Fr...|                 0.0|\n",
            "|Liquidated Asset...|                 0.0|\n",
            "|        Flush ERC20|                 0.0|\n",
            "|         0xf867beb4|                 0.0|\n",
            "|            Deposit|   65.20086767299999|\n",
            "|   Any Swap In Auto|                 0.0|\n",
            "|         0x020965d0|                45.0|\n",
            "+-------------------+--------------------+\n",
            "only showing top 20 rows\n",
            "\n"
          ]
        }
      ]
    },
    {
      "cell_type": "code",
      "source": [
        "method_high_transaction = df_cat_val.sort('sum(Val)', ascending=False).limit(5)"
      ],
      "metadata": {
        "id": "-zs08Nl6dLa8"
      },
      "execution_count": 153,
      "outputs": []
    },
    {
      "cell_type": "code",
      "source": [
        "method_high_transaction = method_high_transaction.toPandas()"
      ],
      "metadata": {
        "id": "eVse6AyLdeX-"
      },
      "execution_count": 154,
      "outputs": []
    },
    {
      "cell_type": "code",
      "source": [
        "import matplotlib.pyplot as plt\n",
        "plt.figure(figsize=(10,8))\n",
        "plt.bar(method_high_transaction['Method'],method_high_transaction['sum(Val)'])\n",
        "plt.xlabel('Method of Transaction')\n",
        "plt.ylabel('Value of total Ethereum Transaction')\n",
        "plt.title('Methods with highest total ethereum transaction value')\n",
        "plt.show()"
      ],
      "metadata": {
        "colab": {
          "base_uri": "https://localhost:8080/",
          "height": 718
        },
        "id": "0_UhP8SDdzun",
        "outputId": "5967245b-01aa-471a-d4c5-713a3f4a15bd"
      },
      "execution_count": 155,
      "outputs": [
        {
          "output_type": "display_data",
          "data": {
            "text/plain": [
              "<Figure size 1000x800 with 1 Axes>"
            ],
            "image/png": "[encoded data removed]"
          },
          "metadata": {}
        }
      ]
    },
    {
      "cell_type": "code",
      "source": [
        "df1.select(\"Method\", \"Val\", \"Txn Fee\").show(5)"
      ],
      "metadata": {
        "id": "Z4y6U9SuevFe",
        "colab": {
          "base_uri": "https://localhost:8080/"
        },
        "outputId": "15a752e5-cd84-4291-839e-9e94a6e7f5a0"
      },
      "execution_count": 156,
      "outputs": [
        {
          "output_type": "stream",
          "name": "stdout",
          "text": [
            "+-------------------+----+----------+\n",
            "|             Method| Val|   Txn Fee|\n",
            "+-------------------+----+----------+\n",
            "|Append Sequencer...| 0.0|0.01305627|\n",
            "|            Unoswap| 0.0|0.00549903|\n",
            "|            Approve| 0.0|0.00190457|\n",
            "|            Execute|0.08|0.00702675|\n",
            "|Append State Bat...| 0.0| 0.0537479|\n",
            "+-------------------+----+----------+\n",
            "only showing top 5 rows\n",
            "\n"
          ]
        }
      ]
    },
    {
      "cell_type": "markdown",
      "source": [
        "### Analysing Top Etherium Transactions"
      ],
      "metadata": {
        "id": "YxetYe-satsU"
      }
    },
    {
      "cell_type": "code",
      "source": [
        "top_5_eth_transaction = df1.sort('Val', ascending=False).limit(5)"
      ],
      "metadata": {
        "id": "qSfOfvCcXR5Y"
      },
      "execution_count": 157,
      "outputs": []
    },
    {
      "cell_type": "code",
      "source": [
        "top_5_eth_transaction.show()"
      ],
      "metadata": {
        "colab": {
          "base_uri": "https://localhost:8080/"
        },
        "id": "5RSFMM2vabDF",
        "outputId": "ce8b9ac6-78d4-49cf-d2ff-b2b6339a4aeb"
      },
      "execution_count": 158,
      "outputs": [
        {
          "output_type": "stream",
          "name": "stdout",
          "text": [
            "+--------------------+----------+--------+----------+-------------------+--------------------+----------+--------+----+\n",
            "|            Txn Hash|    Method|   Block|       Age|               From|                  To|   Txn Fee|     Val|Type|\n",
            "+--------------------+----------+--------+----------+-------------------+--------------------+----------+--------+----+\n",
            "|0x1842d45a459e78b...|   Deposit|17164858| 1 min ago|0xd65a7B...066F4f7B|Beacon Deposit Co...|0.00206126|    32.0| ETH|\n",
            "|0x0491692f152d35e...|   Deposit|17164863| 1 min ago|0xd65a7B...066F4f7B|Beacon Deposit Co...|0.00212766|    32.0| ETH|\n",
            "|0x1b9ea6ba03b4892...|  Transfer|17164864| 1 min ago|          KuCoin 10| 0x1f6805...33F0e4A1| 9.0283E-4|  29.995| ETH|\n",
            "|0x11fa57a047393ab...|  Transfer|17164863| 1 min ago|         Binance 20| 0x2BbB48...540f66b0| 8.6124E-4|19.99818| ETH|\n",
            "|0xb731ed10ea38dc4...|0x020965d0|17164869|2 mins ago|0xad67D3...6b9E4a0f|   Seawise: Resolver| 0.0084735|    19.0| wei|\n",
            "+--------------------+----------+--------+----------+-------------------+--------------------+----------+--------+----+\n",
            "\n"
          ]
        }
      ]
    },
    {
      "cell_type": "markdown",
      "source": [
        "* **This is the transaction information of the top 5 ethereum value transactions**"
      ],
      "metadata": {
        "id": "CycVQHFgaBZM"
      }
    },
    {
      "cell_type": "markdown",
      "source": [
        "### Analysing transactions with highest and lowest gas fees"
      ],
      "metadata": {
        "id": "guClNFpgaqB7"
      }
    },
    {
      "cell_type": "code",
      "source": [
        "high_5_gas_fee = df1.sort('Txn Fee', ascending=False).limit(5)"
      ],
      "metadata": {
        "id": "7_26hRPuY0ex"
      },
      "execution_count": 159,
      "outputs": []
    },
    {
      "cell_type": "code",
      "source": [
        "high_5_gas_fee.show()"
      ],
      "metadata": {
        "colab": {
          "base_uri": "https://localhost:8080/"
        },
        "id": "HZOMHiqnbm4B",
        "outputId": "e9ebee1d-7fdc-4238-eff9-ea7599ad1ec6"
      },
      "execution_count": 160,
      "outputs": [
        {
          "output_type": "stream",
          "name": "stdout",
          "text": [
            "+--------------------+-------------------+--------+----------+-------------------+--------------------+----------+---+----+\n",
            "|            Txn Hash|             Method|   Block|       Age|               From|                  To|   Txn Fee|Val|Type|\n",
            "+--------------------+-------------------+--------+----------+-------------------+--------------------+----------+---+----+\n",
            "|0x88d8acff1b0dbbb...|         0x42753707|17164866|2 mins ago|jaredfromsubway.eth|MEV Bot: 0x6b7...A80|0.14597547|0.0| ETH|\n",
            "|0xdc1e97bd69628d2...|Add Liquidity ET...|17164870|2 mins ago|0x3Ec88f...bD29B6ff|Uniswap V2: Router 2|0.11341322|2.5| ETH|\n",
            "|0x50dc41352dc2a3b...|         0x406b395d|17164864| 1 min ago|jaredfromsubway.eth|MEV Bot: 0x6b7...A80|0.10948562|0.0| ETH|\n",
            "|0x0a1a7df7d358834...|         0x60a06040|17164863| 1 min ago|0xf87BC5...907a843D|   Contract Creation|0.08414218|0.0| ETH|\n",
            "|0x4d66318bbe63ae2...|Swap Exact ETH F...|17164864| 1 min ago|0xB42F65...4f691bE8|Uniswap V2: Router 2|0.08135493|0.2| ETH|\n",
            "+--------------------+-------------------+--------+----------+-------------------+--------------------+----------+---+----+\n",
            "\n"
          ]
        }
      ]
    },
    {
      "cell_type": "code",
      "source": [
        "low_5_gas_fee = df1.sort('Txn Fee', ascending=True).limit(5)"
      ],
      "metadata": {
        "id": "YJ6Q8mwObrZ4"
      },
      "execution_count": 161,
      "outputs": []
    },
    {
      "cell_type": "code",
      "source": [
        "low_5_gas_fee.show()"
      ],
      "metadata": {
        "colab": {
          "base_uri": "https://localhost:8080/"
        },
        "id": "KLM3EYypb34w",
        "outputId": "317eb1cf-7a28-428a-b6f8-2e0281a98184"
      },
      "execution_count": 162,
      "outputs": [
        {
          "output_type": "stream",
          "name": "stdout",
          "text": [
            "+--------------------+--------+--------+----------+-------------------+-------------------+---------+-----------+----+\n",
            "|            Txn Hash|  Method|   Block|       Age|               From|                 To|  Txn Fee|        Val|Type|\n",
            "+--------------------+--------+--------+----------+-------------------+-------------------+---------+-----------+----+\n",
            "|0x7c7bd5280debd22...|Transfer|17164863|2 mins ago|0x0A772A...aC3518ca|0xC3Af4f...a3e30B19|8.2134E-4|        0.3| ETH|\n",
            "|0xd3c63a253f64f45...|Transfer|17164875|2 mins ago|0x79BC8d...847A6BfC|0xA94983...24939F16|8.2507E-4|0.008201192| ETH|\n",
            "|0xbaf2324ec447918...|Transfer|17164875|2 mins ago|0x37C724...F4BbB354|0xfb148f...27a12B77|8.2507E-4|     0.0054| ETH|\n",
            "|0x79ccc8836841d5f...|Transfer|17164875|2 mins ago|          3nety.eth|   complexcrypto1.x|8.2507E-4|    0.08167| ETH|\n",
            "|0xa2bf9273b280cd3...|Transfer|17164876|2 mins ago|         emxart.eth|0x4eaf55...4f5c0714|8.3255E-4|    0.01129| ETH|\n",
            "+--------------------+--------+--------+----------+-------------------+-------------------+---------+-----------+----+\n",
            "\n"
          ]
        }
      ]
    },
    {
      "cell_type": "markdown",
      "source": [
        "### Comparison b/w gas prices and transaction timings"
      ],
      "metadata": {
        "id": "9Yie26p_fzn0"
      }
    },
    {
      "cell_type": "code",
      "source": [
        "split_col = pyspark.sql.functions.split(df1['Age'], ' ')\n",
        "df1 = df1.withColumn('Time', split_col.getItem(0))\n",
        "# df = df1.withColumn('Unit', split_col.getItem(1))"
      ],
      "metadata": {
        "id": "JGXakanbb7Co"
      },
      "execution_count": 163,
      "outputs": []
    },
    {
      "cell_type": "code",
      "source": [
        "df1.show()"
      ],
      "metadata": {
        "colab": {
          "base_uri": "https://localhost:8080/"
        },
        "id": "XdRswNTif-Fy",
        "outputId": "8f8952af-165d-4899-f63e-eb603d86637d"
      },
      "execution_count": 164,
      "outputs": [
        {
          "output_type": "stream",
          "name": "stdout",
          "text": [
            "+--------------------+-------------------+--------+---------+--------------------+--------------------+----------+-----------+----+----+\n",
            "|            Txn Hash|             Method|   Block|      Age|                From|                  To|   Txn Fee|        Val|Type|Time|\n",
            "+--------------------+-------------------+--------+---------+--------------------+--------------------+----------+-----------+----+----+\n",
            "|0x5a5404f46230fe1...|Append Sequencer...|17164854|1 min ago| Optimism: Sequencer|Optimism: Canonic...|0.01305627|        0.0| ETH|   1|\n",
            "|0xcd1d6b6ce3648a2...|            Unoswap|17164854|1 min ago| 0x0b1dD8...B82d9bC7|1inch v5: Aggrega...|0.00549903|        0.0| ETH|   1|\n",
            "|0xe2a1a884ebe841c...|            Approve|17164854|1 min ago| 0x9Ab8F9...8Ab74CCF| 0x0575A5...2FaA3a79|0.00190457|        0.0| ETH|   1|\n",
            "|0x223635c5cde550d...|            Execute|17164854|1 min ago| 0x456982...5C4bBBA6|Uniswap: Universa...|0.00702675|       0.08| ETH|   1|\n",
            "|0x0e43bd50cc1c128...|Append State Bat...|17164854|1 min ago|Optimism: State R...|Optimism: State C...| 0.0537479|        0.0| ETH|   1|\n",
            "|0x95fc3937509fa75...|            Execute|17164854|1 min ago| 0xFb82aC...C9b22265|Uniswap: Universa...|0.00601246|       0.06| ETH|   1|\n",
            "|0x7ba4760a1048757...|              Relay|17164854|1 min ago|Celer Network: Re...|Celer Network: cB...|0.00770078|        0.0| ETH|   1|\n",
            "|0x66be60b0d119bed...|           Transfer|17164854|1 min ago| 0x919114...4b55FC79| 0xB01157...08BbbB5c| 8.5863E-4|        1.0| ETH|   1|\n",
            "|0x07110ef46a36cae...|           Transfer|17164854|1 min ago| 0x8C8D7C...564d7465| 0x8E628A...a282f354| 8.5863E-4|0.057580057| ETH|   1|\n",
            "|0x903b3aaffdd275e...|           Transfer|17164854|1 min ago| 0x8C8D7C...564d7465| 0xa56D1A...C71f24F3| 8.5863E-4|0.197961131| ETH|   1|\n",
            "|0x1a637793ff19405...|            Approve|17164854|1 min ago| 0xA35D81...6B8E3F3d|Crypto AI: CAI Token|0.00192592|        0.0| ETH|   1|\n",
            "|0x29814097f38cb9a...|   Any Swap In Auto|17164854|1 min ago| 0x2A038e...c288A869|Multichain: Route...|0.00419977|        0.0| ETH|   1|\n",
            "|0x3cb15515661f237...|   Any Swap In Auto|17164854|1 min ago| 0x2A038e...c288A869|Multichain: Route...|0.00419977|        0.0| ETH|   1|\n",
            "|0xb8692e1768a0a40...|           Transfer|17164854|1 min ago| 0x1651A6...49ea4E6b| 0x35626D...9B5F6BAe| 8.5928E-4|0.001618629| ETH|   1|\n",
            "|0xe9c5ae87a397bc5...|            Approve|17164854|1 min ago| 0x32fFD2...DCbc8fC9| 0x993a1b...140F73F2|0.00191922|        0.0| ETH|   1|\n",
            "|0x0567f807abf95e7...|Safe Transfer Fr...|17164854|1 min ago|vault.nationalban...|Pepe Open Edition...| 0.0021304|        0.0| ETH|   1|\n",
            "|0xcc07f68aca60024...|           Transfer|17164854|1 min ago|tranthanhtong7698...|xuandai58489gmail...| 8.5944E-4|      0.015| ETH|   1|\n",
            "|0x6364ec54e6614dd...|            Approve|17164854|1 min ago| 0xE983FA...3055c1dC|Stargate Finance:...|0.00189053|        0.0| ETH|   1|\n",
            "|0x9ec5cc9c4d3f8d5...|           Register|17164854|1 min ago|       kingofall.eth|DeBank: L2 Regist...|0.00564753|        0.0| ETH|   1|\n",
            "|0xac7af5ce67220ec...|           Transfer|17164854|1 min ago| 0x76eD44...a63F3037|    Centre: USD Coin|0.00268527|        0.0| ETH|   1|\n",
            "+--------------------+-------------------+--------+---------+--------------------+--------------------+----------+-----------+----+----+\n",
            "only showing top 20 rows\n",
            "\n"
          ]
        }
      ]
    },
    {
      "cell_type": "code",
      "source": [
        "comp = df1.select(\"Txn Fee\",\"Time\")"
      ],
      "metadata": {
        "id": "gcDt2U1yf_45"
      },
      "execution_count": 165,
      "outputs": []
    },
    {
      "cell_type": "code",
      "source": [
        "comp = comp.toPandas()"
      ],
      "metadata": {
        "id": "urg8xdZ4htNa"
      },
      "execution_count": 166,
      "outputs": []
    },
    {
      "cell_type": "code",
      "source": [
        "plt.scatter(comp['Time'],comp['Txn Fee'])\n",
        "plt.show()"
      ],
      "metadata": {
        "colab": {
          "base_uri": "https://localhost:8080/",
          "height": 430
        },
        "id": "8zXyLhZShvaZ",
        "outputId": "218c36a5-7891-4918-feaf-ecc28034a88f"
      },
      "execution_count": 167,
      "outputs": [
        {
          "output_type": "display_data",
          "data": {
            "text/plain": [
              "<Figure size 640x480 with 1 Axes>"
            ],
            "image/png": "[encoded data removed]"
          },
          "metadata": {}
        }
      ]
    },
    {
      "cell_type": "code",
      "source": [],
      "metadata": {
        "id": "uruu_lk-h82C"
      },
      "execution_count": 167,
      "outputs": []
    }
  ]
}